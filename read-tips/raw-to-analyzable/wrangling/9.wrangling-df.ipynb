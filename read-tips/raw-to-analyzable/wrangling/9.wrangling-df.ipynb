{
 "cells": [
  {
   "attachments": {},
   "cell_type": "markdown",
   "metadata": {},
   "source": [
    "## Overview\n",
    "1. Assess Data Quality\n",
    "2. Missing Values\n",
    "3. Transform Features\n",
    "4. Reshape (structure, granularity)\n",
    "\n",
    "Quality checking (and fixing) and transformation are often cyclical: the quality checks point us toward transformations we need to make, and when we check the transformed columns to confirm that our data are ready for analysis, we may discover they need further cleaning."
   ]
  },
  {
   "attachments": {},
   "cell_type": "markdown",
   "metadata": {},
   "source": [
    "### different expectations for quality\n",
    "\n",
    "Data from a scientific experiment or study are typically clean, well-documented, and have a simple structure. These data are organized to be broadly shared so that others can build on or reproduce the findings. They are typically ready for analysis after little to no wrangling.\n",
    "\n",
    "Data from government surveys often come with very detailed codebooks and meta data describing how the data are collected and formatted, and these datasets are also typically ready for exploration and analysis right out of the “box”.\n",
    "\n",
    "Administrative data can be clean, but without inside knowledge of the source we may need to extensively check their quality. Also, since we often use these data for a purpose other than why they were collected in the first place, we may need to transform features or combine data tables.\n",
    "\n",
    "Informally collected data, such as data scraped from the Web, can be quite messy and tends to come with little documentation. For example, texts, tweets, blogs, Wikipedia tables, etc. usually require formatting and cleaning to transform them into information ready for analysis.\n",
    "\n"
   ]
  },
  {
   "attachments": {},
   "cell_type": "markdown",
   "metadata": {},
   "source": [
    "## 9.1 Quality Check\n",
    "Quality checks can reveal issues in the data that need to be addressed before proceeding with analysis."
   ]
  },
  {
   "attachments": {},
   "cell_type": "markdown",
   "metadata": {},
   "source": [
    "### Four Vantage Points"
   ]
  },
  {
   "attachments": {},
   "cell_type": "markdown",
   "metadata": {},
   "source": [
    "#### 1. scope\n",
    "Do the data match your understanding of the population?"
   ]
  },
  {
   "attachments": {},
   "cell_type": "markdown",
   "metadata": {},
   "source": [
    "#### 2. measurement\n"
   ]
  },
  {
   "attachments": {},
   "cell_type": "markdown",
   "metadata": {},
   "source": [
    "Considering what might be a _**reasonable value**_ for a feature.\n",
    "- based on common knowledge of ranges\n",
    "- documentation to tells us the expected values for a feature\n",
    "\n",
    "Ensure that the **_data type_** matches our expectations\n",
    "- a price to be a number\n",
    "- weight values recorded in pounds, not kilograms"
   ]
  },
  {
   "attachments": {},
   "cell_type": "markdown",
   "metadata": {},
   "source": [
    "#### 3. Related Features\n",
    "At times two features have builtin conditions on their values that we can cross-check for internal consistency. "
   ]
  },
  {
   "attachments": {},
   "cell_type": "markdown",
   "metadata": {},
   "source": [
    "A cross-tabulation of the feature1 and feature2 can confirm constraint is met:\n",
    "\n",
    "            `display_df(pd.crosstab(df[field1], df[field2]), rows=12)`"
   ]
  },
  {
   "attachments": {},
   "cell_type": "markdown",
   "metadata": {},
   "source": [
    "#### 4. Analysis\n",
    "Even when data pass the previous quality checks, problems can arise with its usefulness:\n",
    "- all but a handful of values for a feature are identical\n",
    "- too many missing values, especially if there is a discernible pattern in the missing values\n",
    "- a feature has many bad/corrupted values, then we might question the accuracy of even those values that fall in the appropriate range."
   ]
  },
  {
   "attachments": {},
   "cell_type": "markdown",
   "metadata": {},
   "source": [
    "### Fixing or Not\n",
    "what to do next when uncovering problems in the previous check\n",
    "\n",
    "What ever approach you take, you will want to study the possible impact of the changes that you make on your analysis. For example, try to determine whether the records with corrupted values are similar to each other, and different from the rest of the data."
   ]
  },
  {
   "attachments": {},
   "cell_type": "markdown",
   "metadata": {},
   "source": [
    "##### 1. Leave it as is\n",
    "- Have discovered a characteristic of your data that will inform you about how to do your analysis and otherwise does not need correcting.\n",
    "\n",
    "- The problem is relatively minor and most likely will not impact your analysis\n",
    "\n",
    "- Replace corrupted values with `NaN`"
   ]
  },
  {
   "attachments": {},
   "cell_type": "markdown",
   "metadata": {},
   "source": [
    "##### 2. Modify Indiviudal Values\n",
    "create a new feature with the modified value and preserve the original feature"
   ]
  },
  {
   "attachments": {},
   "cell_type": "markdown",
   "metadata": {},
   "source": [
    "##### 3. Remove a Column\n",
    "If many values in a feature have problems, then consider eliminating that feature entirely. Rather than exclude a feature, there may be a transformation that allows you to keep the feature while reducing the level of detail recorded."
   ]
  },
  {
   "attachments": {},
   "cell_type": "markdown",
   "metadata": {},
   "source": [
    "##### 4. Drop Records\n",
    "DON'T:\n",
    "- do not drop a large number of observations from a dataset without good reason\n",
    "- do not simply correspond dropping records with corrupted values\n",
    "\n",
    "DO:\n",
    "- try to scale back your investigation to a particular **subgroup** of the data that is clearly defined by some criteria\n",
    "- Even if an unusual value is in fact correct, you still might decide to exclude the record from your analysis because it’s so different from the rest of your data and you do not want it to overly influence your analysis."
   ]
  },
  {
   "attachments": {},
   "cell_type": "markdown",
   "metadata": {},
   "source": [
    "## 9.2 Missing Values"
   ]
  },
  {
   "cell_type": "markdown",
   "metadata": {},
   "source": []
  },
  {
   "cell_type": "markdown",
   "metadata": {},
   "source": []
  },
  {
   "cell_type": "markdown",
   "metadata": {},
   "source": []
  },
  {
   "cell_type": "markdown",
   "metadata": {},
   "source": []
  },
  {
   "cell_type": "markdown",
   "metadata": {},
   "source": []
  },
  {
   "cell_type": "markdown",
   "metadata": {},
   "source": []
  },
  {
   "cell_type": "markdown",
   "metadata": {},
   "source": []
  }
 ],
 "metadata": {
  "language_info": {
   "name": "python"
  },
  "orig_nbformat": 4
 },
 "nbformat": 4,
 "nbformat_minor": 2
}
